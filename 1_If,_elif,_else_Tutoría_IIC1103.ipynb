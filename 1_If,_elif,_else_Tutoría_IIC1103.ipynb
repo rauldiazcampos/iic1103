{
  "nbformat": 4,
  "nbformat_minor": 0,
  "metadata": {
    "colab": {
      "name": "1. If, elif, else - Tutoría IIC1103.ipynb",
      "provenance": [],
      "authorship_tag": "ABX9TyNnRMILUS5HyNJBoZT7Wla/",
      "include_colab_link": true
    },
    "kernelspec": {
      "name": "python3",
      "display_name": "Python 3"
    }
  },
  "cells": [
    {
      "cell_type": "markdown",
      "metadata": {
        "id": "view-in-github",
        "colab_type": "text"
      },
      "source": [
        "<a href=\"https://colab.research.google.com/github/rauldiazcampos/iic1103/blob/master/1_If%2C_elif%2C_else_Tutor%C3%ADa_IIC1103.ipynb\" target=\"_parent\"><img src=\"https://colab.research.google.com/assets/colab-badge.svg\" alt=\"Open In Colab\"/></a>"
      ]
    },
    {
      "cell_type": "markdown",
      "metadata": {
        "id": "WfNwI-6iLk-M",
        "colab_type": "text"
      },
      "source": [
        "If, elif y else serán nuestras herramientas para separar "
      ]
    },
    {
      "cell_type": "code",
      "metadata": {
        "id": "-Zwlw73ELGLb",
        "colab_type": "code",
        "colab": {}
      },
      "source": [
        ""
      ],
      "execution_count": 0,
      "outputs": []
    },
    {
      "cell_type": "markdown",
      "metadata": {
        "id": "jCtUtihNLkHK",
        "colab_type": "text"
      },
      "source": [
        ""
      ]
    },
    {
      "cell_type": "code",
      "metadata": {
        "id": "cTwKkAdwLjda",
        "colab_type": "code",
        "colab": {}
      },
      "source": [
        ""
      ],
      "execution_count": 0,
      "outputs": []
    }
  ]
}